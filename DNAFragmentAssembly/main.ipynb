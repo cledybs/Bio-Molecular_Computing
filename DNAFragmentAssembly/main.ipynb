{
 "cells": [
  {
   "cell_type": "code",
   "execution_count": 1,
   "metadata": {
    "collapsed": true,
    "ExecuteTime": {
     "end_time": "2024-04-25T15:49:32.104706900Z",
     "start_time": "2024-04-25T15:49:28.429961800Z"
    }
   },
   "outputs": [],
   "source": [
    "import itertools\n",
    "import networkx as nx\n",
    "import matplotlib.pyplot as plt"
   ]
  },
  {
   "cell_type": "code",
   "execution_count": 34,
   "outputs": [],
   "source": [
    "def inverted_bases(cadena):\n",
    "    complementos = {'A': 'T', 'T': 'A', 'C': 'G', 'G': 'C'}\n",
    "    complemento_inverso = ''.join(complementos[base] for base in reversed(cadena))\n",
    "    return complemento_inverso"
   ],
   "metadata": {
    "collapsed": false,
    "ExecuteTime": {
     "end_time": "2024-04-25T16:36:20.903809900Z",
     "start_time": "2024-04-25T16:36:20.895511300Z"
    }
   }
  },
  {
   "cell_type": "code",
   "execution_count": 2,
   "outputs": [],
   "source": [
    "def overlap(a, b, min_length):\n",
    "\tstart = 0\n",
    "\twhile True:\n",
    "\t\tstart = a.find(b[:min_length], start)\n",
    "\t\tif start == -1:\n",
    "\t\t\treturn 0\n",
    "\n",
    "\t\tif b.startswith(a[start:]):\n",
    "\t\t\treturn len(a)-start\n",
    "\t\tstart += 1"
   ],
   "metadata": {
    "collapsed": false,
    "ExecuteTime": {
     "end_time": "2024-04-25T15:50:18.913042500Z",
     "start_time": "2024-04-25T15:50:18.901731600Z"
    }
   }
  },
  {
   "cell_type": "code",
   "execution_count": 6,
   "outputs": [],
   "source": [
    "def pick_maximal_overlap(reads, k):\n",
    "\treada, readb = None, None\n",
    "\tbest_olen = 0\n",
    "\tfor a, b in itertools.permutations(reads, 2):\n",
    "\t\tolen = overlap(a, b, min_length=k)\n",
    "\t\tif olen > best_olen:\n",
    "\t\t\treada, readb = a, b\n",
    "\t\t\tbest_olen = olen\n",
    "\t#print(reada, readb, best_olen)\n",
    "\treturn reada, readb, best_olen\n",
    "\n",
    "def greedy_scs(reads, k):\n",
    "\tread_a, read_b, olen = pick_maximal_overlap(reads, k)\n",
    "\twhile olen > 0:\n",
    "\t\treads.remove(read_a)\n",
    "\t\treads.remove(read_b)\n",
    "\t\treads.append(read_a + read_b[-(len(read_b) - olen):])\n",
    "\t\tread_a, read_b, olen = pick_maximal_overlap(reads, k)\n",
    "\treturn ''.join(reads)"
   ],
   "metadata": {
    "collapsed": false,
    "ExecuteTime": {
     "end_time": "2024-04-25T15:51:44.148228500Z",
     "start_time": "2024-04-25T15:51:44.132686700Z"
    }
   }
  },
  {
   "cell_type": "code",
   "execution_count": 55,
   "outputs": [],
   "source": [
    "def create_graph(reads, k):\n",
    "\tG = nx.DiGraph()\n",
    "\t#for r in reads:\n",
    "\t#\tG.add_node(r)\n",
    "\tfor a, b in itertools.permutations(reads, 2):\n",
    "\t\tolen = overlap(a, b, min_length=k)\n",
    "\t\t#print(a, b, olen)\n",
    "\t\tif olen >= k:\n",
    "\t\t\tG.add_edge(a, b, weight=olen)\n",
    "\treturn G"
   ],
   "metadata": {
    "collapsed": false,
    "ExecuteTime": {
     "end_time": "2024-04-25T17:22:57.009125200Z",
     "start_time": "2024-04-25T17:22:57.003094600Z"
    }
   }
  },
  {
   "cell_type": "code",
   "execution_count": 10,
   "outputs": [],
   "source": [
    "def hamiltonian_path(G):\n",
    "\tpath = []\n",
    "\tfor node in G.nodes():\n",
    "\t\tvisited = set()\n",
    "\t\tif hamiltonian_path_recursive(G, node, visited, path):\n",
    "\t\t\treturn path\n",
    "\treturn None\n",
    "\n",
    "def hamiltonian_path_recursive(G, current_node, visited, path):\n",
    "\tvisited.add(current_node)\n",
    "\tpath.append(current_node)\n",
    "\tif len(visited) == len(G.nodes()):\n",
    "\t\treturn True\n",
    "\tfor neighbor in G.neighbors(current_node):\n",
    "\t\tif neighbor not in visited:\n",
    "\t\t\tif hamiltonian_path_recursive(G, neighbor, visited, path):\n",
    "\t\t\t\treturn True\n",
    "\tpath.pop()\n",
    "\tvisited.remove(current_node)\n",
    "\treturn False\n",
    "\n",
    "def find_superstring_from_path(G, path):\n",
    "\tsuperstring = path[0]\n",
    "\tfor i in range(1, len(path)):\n",
    "\t\tcurrent_node = path[i]\n",
    "\t\tprevious_node = path[i - 1]\n",
    "\t\tedge_weight = G[previous_node][current_node]['weight']\n",
    "\t\tsuperstring += current_node[edge_weight:]\n",
    "\treturn superstring"
   ],
   "metadata": {
    "collapsed": false,
    "ExecuteTime": {
     "end_time": "2024-04-25T15:54:23.909715600Z",
     "start_time": "2024-04-25T15:54:23.905666100Z"
    }
   }
  },
  {
   "cell_type": "code",
   "execution_count": 66,
   "outputs": [],
   "source": [
    "reads = ['AGTATTGGCAATC', 'AATCGATG', 'ATGCAAACCT', 'CCTTTTGG', 'TTGGCAATCACT']\n",
    "#reads = ['GTG', 'TGG', 'ATG', 'GGC', 'GCG', 'CGT', 'GCA', 'TGC', 'CAA', 'AAT']\n",
    "#reads = ['ATCCGTTGAAGCCGCGGGC', 'TTAACTCGAGG', 'TTAAGTACTGCCCG', 'ATCTGTGTCGGG', 'CGACTCCCGACACA', 'CACAGATCCGTTGAAGCCGCGGG', 'CTCGAGTTAAGTA', 'CGCGGGCAGTACTT']\n",
    "k_graph = 3\n",
    "k_scs = 1"
   ],
   "metadata": {
    "collapsed": false,
    "ExecuteTime": {
     "end_time": "2024-04-25T17:25:56.226799900Z",
     "start_time": "2024-04-25T17:25:56.207535100Z"
    }
   }
  },
  {
   "cell_type": "code",
   "execution_count": 69,
   "outputs": [],
   "source": [
    "G = create_graph(reads, k_graph)\n",
    "#print(\"Nodes:\", G.nodes)\n",
    "#print(\"Edges:\", G.edges(data=True))\n",
    "\n",
    "pos = nx.spring_layout(G)\n",
    "nx.draw(G, pos, with_labels=True, node_size=1000, node_color=\"grey\", font_size=6, font_weight=\"bold\")\n",
    "edge_labels = nx.get_edge_attributes(G, 'weight')\n",
    "nx.draw_networkx_edge_labels(G, pos, edge_labels=edge_labels)\n",
    "plt.savefig('graph.png')\n",
    "plt.close()"
   ],
   "metadata": {
    "collapsed": false,
    "ExecuteTime": {
     "end_time": "2024-04-25T17:26:53.820832200Z",
     "start_time": "2024-04-25T17:26:53.742822200Z"
    }
   }
  },
  {
   "cell_type": "code",
   "execution_count": 58,
   "outputs": [
    {
     "name": "stdout",
     "output_type": "stream",
     "text": [
      "Hamiltonian Path: ['AGTATTGGCAATC', 'AATCGATG', 'ATGCAAACCT', 'CCTTTTGG', 'TTGGCAATCACT']\n",
      "DNA assembled by Hamiltonian Path: AGTATTGGCAATCGATGCAAACCTTTTGGCAATCACT 37\n"
     ]
    }
   ],
   "source": [
    "ham_path = hamiltonian_path(G)\n",
    "print(\"Hamiltonian Path:\", ham_path)\n",
    "\n",
    "superstring = find_superstring_from_path(G, ham_path)\n",
    "print(\"DNA assembled by Hamiltonian Path:\", superstring, len(superstring))"
   ],
   "metadata": {
    "collapsed": false,
    "ExecuteTime": {
     "end_time": "2024-04-25T17:23:06.262840700Z",
     "start_time": "2024-04-25T17:23:06.257163400Z"
    }
   }
  },
  {
   "cell_type": "code",
   "execution_count": 59,
   "outputs": [
    {
     "name": "stdout",
     "output_type": "stream",
     "text": [
      "DNA assembled by Greedy SCS: AGTATTGGCAATCACTAATCGATGCAAACCTTTTGG 36\n"
     ]
    }
   ],
   "source": [
    "substring = greedy_scs(reads, k_scs)\n",
    "print (\"DNA assembled by Greedy SCS:\", substring, len(substring))"
   ],
   "metadata": {
    "collapsed": false,
    "ExecuteTime": {
     "end_time": "2024-04-25T17:23:08.582790500Z",
     "start_time": "2024-04-25T17:23:08.578600100Z"
    }
   }
  }
 ],
 "metadata": {
  "kernelspec": {
   "display_name": "Python 3",
   "language": "python",
   "name": "python3"
  },
  "language_info": {
   "codemirror_mode": {
    "name": "ipython",
    "version": 2
   },
   "file_extension": ".py",
   "mimetype": "text/x-python",
   "name": "python",
   "nbconvert_exporter": "python",
   "pygments_lexer": "ipython2",
   "version": "2.7.6"
  }
 },
 "nbformat": 4,
 "nbformat_minor": 0
}
