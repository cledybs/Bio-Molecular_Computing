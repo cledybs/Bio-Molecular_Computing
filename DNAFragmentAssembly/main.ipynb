{
 "cells": [
  {
   "cell_type": "code",
   "execution_count": 1,
   "metadata": {
    "collapsed": true,
    "ExecuteTime": {
     "end_time": "2024-05-02T12:37:04.908665200Z",
     "start_time": "2024-05-02T12:37:03.383577800Z"
    }
   },
   "outputs": [],
   "source": [
    "import itertools\n",
    "import networkx as nx\n",
    "import matplotlib.pyplot as plt"
   ]
  },
  {
   "cell_type": "code",
   "execution_count": 2,
   "outputs": [],
   "source": [
    "def inverted_bases(cadena):\n",
    "    complementos = {'A': 'T', 'T': 'A', 'C': 'G', 'G': 'C'}\n",
    "    complemento_inverso = ''.join(complementos[base] for base in reversed(cadena))\n",
    "    return complemento_inverso"
   ],
   "metadata": {
    "collapsed": false,
    "ExecuteTime": {
     "end_time": "2024-05-02T12:37:06.373658400Z",
     "start_time": "2024-05-02T12:37:06.363281100Z"
    }
   }
  },
  {
   "cell_type": "code",
   "execution_count": 3,
   "outputs": [],
   "source": [
    "def overlap(a, b, min_length):\n",
    "\tstart = 0\n",
    "\twhile True:\n",
    "\t\tstart = a.find(b[:min_length], start)\n",
    "\t\tif start == -1:\n",
    "\t\t\treturn 0\n",
    "\n",
    "\t\tif b.startswith(a[start:]):\n",
    "\t\t\treturn len(a)-start\n",
    "\t\tstart += 1"
   ],
   "metadata": {
    "collapsed": false,
    "ExecuteTime": {
     "end_time": "2024-05-02T12:37:40.260940400Z",
     "start_time": "2024-05-02T12:37:40.251871500Z"
    }
   }
  },
  {
   "cell_type": "code",
   "execution_count": 4,
   "outputs": [],
   "source": [
    "def pick_maximal_overlap(reads, k):\n",
    "\treada, readb = None, None\n",
    "\tbest_olen = 0\n",
    "\tfor a, b in itertools.permutations(reads, 2):\n",
    "\t\tolen = overlap(a, b, min_length=k)\n",
    "\t\tif olen > best_olen:\n",
    "\t\t\treada, readb = a, b\n",
    "\t\t\tbest_olen = olen\n",
    "\t#print(reada, readb, best_olen)\n",
    "\treturn reada, readb, best_olen\n",
    "\n",
    "def greedy_scs(reads, k):\n",
    "\tread_a, read_b, olen = pick_maximal_overlap(reads, k)\n",
    "\twhile olen > 0:\n",
    "\t\treads.remove(read_a)\n",
    "\t\treads.remove(read_b)\n",
    "\t\treads.append(read_a + read_b[-(len(read_b) - olen):])\n",
    "\t\tread_a, read_b, olen = pick_maximal_overlap(reads, k)\n",
    "\treturn ''.join(reads)"
   ],
   "metadata": {
    "collapsed": false,
    "ExecuteTime": {
     "end_time": "2024-05-02T12:37:42.960555700Z",
     "start_time": "2024-05-02T12:37:42.952674300Z"
    }
   }
  },
  {
   "cell_type": "code",
   "execution_count": 5,
   "outputs": [],
   "source": [
    "def create_graph(reads, k):\n",
    "\tG = nx.DiGraph()\n",
    "\t#for r in reads:\n",
    "\t#\tG.add_node(r)\n",
    "\tfor a, b in itertools.permutations(reads, 2):\n",
    "\t\tolen = overlap(a, b, min_length=k)\n",
    "\t\t#print(a, b, olen)\n",
    "\t\tif olen >= k:\n",
    "\t\t\tG.add_edge(a, b, weight=olen)\n",
    "\treturn G"
   ],
   "metadata": {
    "collapsed": false,
    "ExecuteTime": {
     "end_time": "2024-05-02T12:37:45.415883Z",
     "start_time": "2024-05-02T12:37:45.408364600Z"
    }
   }
  },
  {
   "cell_type": "code",
   "execution_count": 6,
   "outputs": [],
   "source": [
    "def hamiltonian_path(G):\n",
    "\tpath = []\n",
    "\tfor node in G.nodes():\n",
    "\t\tvisited = set()\n",
    "\t\tif hamiltonian_path_recursive(G, node, visited, path):\n",
    "\t\t\treturn path\n",
    "\treturn None\n",
    "\n",
    "def hamiltonian_path_recursive(G, current_node, visited, path):\n",
    "\tvisited.add(current_node)\n",
    "\tpath.append(current_node)\n",
    "\tif len(visited) == len(G.nodes()):\n",
    "\t\treturn True\n",
    "\tfor neighbor in G.neighbors(current_node):\n",
    "\t\tif neighbor not in visited:\n",
    "\t\t\tif hamiltonian_path_recursive(G, neighbor, visited, path):\n",
    "\t\t\t\treturn True\n",
    "\tpath.pop()\n",
    "\tvisited.remove(current_node)\n",
    "\treturn False\n",
    "\n",
    "def find_superstring_from_path(G, path):\n",
    "\tsuperstring = path[0]\n",
    "\tfor i in range(1, len(path)):\n",
    "\t\tcurrent_node = path[i]\n",
    "\t\tprevious_node = path[i - 1]\n",
    "\t\tedge_weight = G[previous_node][current_node]['weight']\n",
    "\t\tsuperstring += current_node[edge_weight:]\n",
    "\treturn superstring"
   ],
   "metadata": {
    "collapsed": false,
    "ExecuteTime": {
     "end_time": "2024-05-02T12:37:47.368149600Z",
     "start_time": "2024-05-02T12:37:47.349473100Z"
    }
   }
  },
  {
   "cell_type": "code",
   "execution_count": 37,
   "outputs": [],
   "source": [
    "#reads = ['GTG', 'TGG', 'ATG', 'GGC', 'GCG', 'CGT', 'GCA', 'TGC', 'CAA', 'AAT']\n",
    "#reads = ['AGTATTGGCAATC', 'AATCGATG', 'ATGCAAACCT', 'CCTTTTGG', 'TTGGCAATCACT']\n",
    "reads = ['ATCCGTTGAAGCCGCGGGC', 'TTAACTCGAGG', 'TTAAGTACTGCCCG', 'ATCTGTGTCGGG', 'CGACTCCCGACACA', 'CACAGATCCGTTGAAGCCGCGGG', 'CTCGAGTTAAGTA', 'CGCGGGCAGTACTT']\n",
    "k_graph = 3\n",
    "k_scs = 3"
   ],
   "metadata": {
    "collapsed": false,
    "ExecuteTime": {
     "end_time": "2024-05-02T13:20:52.661055900Z",
     "start_time": "2024-05-02T13:20:52.656521400Z"
    }
   }
  },
  {
   "cell_type": "code",
   "execution_count": 11,
   "outputs": [],
   "source": [
    "from itertools import product"
   ],
   "metadata": {
    "collapsed": false,
    "ExecuteTime": {
     "end_time": "2024-05-02T12:53:20.868431400Z",
     "start_time": "2024-05-02T12:53:20.857698300Z"
    }
   }
  },
  {
   "cell_type": "code",
   "execution_count": 38,
   "outputs": [
    {
     "name": "stdout",
     "output_type": "stream",
     "text": [
      "Final sequences:  ['ATCCGTTGAAGCCGCGGGC', 'TTAACTCGAGG', 'CGGGCAGTACTTAA', 'CCCGACACAGAT', 'CGACTCCCGACACA', 'CACAGATCCGTTGAAGCCGCGGG', 'TACTTAACTCGAG', 'CGCGGGCAGTACTT']\n",
      "DNA assembled by Greedy SCS: CGACTCCCGACACAGATCCGTTGAAGCCGCGGGCAGTACTTAACTCGAGG 50\n"
     ]
    }
   ],
   "source": [
    "min_len = float('inf')\n",
    "final_reads = []\n",
    "final_substring = ''\n",
    "\n",
    "all_combinations = []\n",
    "for combination in product([False, True], repeat=len(reads)):\n",
    "    tmp_reads = [read if not reverse else inverted_bases(read) for read, reverse in zip(reads, combination)]\n",
    "    all_combinations.append(tmp_reads)\n",
    "\n",
    "for c in all_combinations:\n",
    "\ttmp_reads = c.copy()\n",
    "\tsubstring = greedy_scs(c, k_scs)\n",
    "\tif len(substring) < min_len:\n",
    "\t\tfinal_reads = tmp_reads\n",
    "\t\tfinal_substring = substring\n",
    "\t\tmin_len = len(substring)\n",
    "\n",
    "print (\"Final sequences: \", final_reads)\n",
    "print (\"DNA assembled by Greedy SCS:\", final_substring, len(final_substring))"
   ],
   "metadata": {
    "collapsed": false,
    "ExecuteTime": {
     "end_time": "2024-05-02T13:20:54.775272100Z",
     "start_time": "2024-05-02T13:20:54.752077500Z"
    }
   }
  },
  {
   "cell_type": "code",
   "execution_count": 32,
   "outputs": [],
   "source": [
    "G = create_graph(final_reads, k_graph)\n",
    "#print(\"Nodes:\", G.nodes)\n",
    "#print(\"Edges:\", G.edges(data=True))\n",
    "\n",
    "pos = nx.circular_layout(G)\n",
    "nx.draw(G, pos, with_labels=True, node_size=1000, node_color=\"skyblue\", font_size=6, font_weight=\"bold\")\n",
    "edge_labels = nx.get_edge_attributes(G, 'weight')\n",
    "nx.draw_networkx_edge_labels(G, pos, edge_labels=edge_labels)\n",
    "plt.savefig('graph.png')\n",
    "plt.close()"
   ],
   "metadata": {
    "collapsed": false,
    "ExecuteTime": {
     "end_time": "2024-05-02T13:04:18.009268Z",
     "start_time": "2024-05-02T13:04:17.857002800Z"
    }
   }
  },
  {
   "cell_type": "code",
   "execution_count": 31,
   "outputs": [
    {
     "name": "stdout",
     "output_type": "stream",
     "text": [
      "Hamiltonian Path: ['CGACTCCCGACACA', 'CCCGACACAGAT', 'CACAGATCCGTTGAAGCCGCGGG', 'ATCCGTTGAAGCCGCGGGC', 'CGCGGGCAGTACTT', 'CGGGCAGTACTTAA', 'TACTTAACTCGAG', 'TTAACTCGAGG']\n",
      "DNA assembled by Hamiltonian Path: CGACTCCCGACACAGATCCGTTGAAGCCGCGGGCAGTACTTAACTCGAGG 50\n"
     ]
    }
   ],
   "source": [
    "ham_path = hamiltonian_path(G)\n",
    "print(\"Hamiltonian Path:\", ham_path)\n",
    "\n",
    "superstring = find_superstring_from_path(G, ham_path)\n",
    "print(\"DNA assembled by Hamiltonian Path:\", superstring, len(superstring))"
   ],
   "metadata": {
    "collapsed": false,
    "ExecuteTime": {
     "end_time": "2024-05-02T13:02:43.786369300Z",
     "start_time": "2024-05-02T13:02:43.780850600Z"
    }
   }
  }
 ],
 "metadata": {
  "kernelspec": {
   "display_name": "Python 3",
   "language": "python",
   "name": "python3"
  },
  "language_info": {
   "codemirror_mode": {
    "name": "ipython",
    "version": 2
   },
   "file_extension": ".py",
   "mimetype": "text/x-python",
   "name": "python",
   "nbconvert_exporter": "python",
   "pygments_lexer": "ipython2",
   "version": "2.7.6"
  }
 },
 "nbformat": 4,
 "nbformat_minor": 0
}
